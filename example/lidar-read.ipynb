{
 "cells": [
  {
   "cell_type": "code",
   "execution_count": null,
   "metadata": {
    "collapsed": true
   },
   "outputs": [],
   "source": [
    "Lidar Lite v3のケーブルを一本だけ接続します。\n",
    "Lidarはアドレス0x62で起動します。\n",
    "このアドレスを0x52に変更してセンサー値を取得できることを確認します。"
   ]
  },
  {
   "cell_type": "code",
   "execution_count": 1,
   "metadata": {
    "scrolled": true
   },
   "outputs": [
    {
     "name": "stdout",
     "output_type": "stream",
     "text": [
      "Distance to target = 217    \n",
      "end\n"
     ]
    }
   ],
   "source": [
    "import sys\n",
    "import time\n",
    "from __future__ import print_function\n",
    "import LidarLiteV3\n",
    "BUSNUM=1\n",
    "ADDRESS=0x62\n",
    "lidar1 = LidarLiteV3.Connect(busnum=BUSNUM, address=ADDRESS)\n",
    "\n",
    "lidar1.changeAddress(0x52)\n",
    "\n",
    "for i in range(300):\n",
    "    distance1 = lidar1.getDistance()\n",
    "    print(\"Distance to target = \"+str(distance1), \"   \\r\", end=\"\")\n",
    "    sys.stdout.flush()\n",
    "    time.sleep(0.022)\n",
    "print(\"\")\n",
    "sys.stdout.flush()\n",
    "print(\"end\")"
   ]
  },
  {
   "cell_type": "code",
   "execution_count": null,
   "metadata": {
    "collapsed": true
   },
   "outputs": [],
   "source": [
    "Lidar Lite v3の2個目のケーブルを接続します。\n",
    "Lidarはアドレス0x62で起動します。\n",
    "このアドレスを0x54に変更してセンサー値を取得できることを確認します。"
   ]
  },
  {
   "cell_type": "code",
   "execution_count": 2,
   "metadata": {},
   "outputs": [
    {
     "name": "stdout",
     "output_type": "stream",
     "text": [
      "Distance to target = 50      \n",
      "end\n"
     ]
    }
   ],
   "source": [
    "import sys\n",
    "import time\n",
    "from __future__ import print_function\n",
    "import LidarLiteV3\n",
    "BUSNUM=1\n",
    "ADDRESS=0x62\n",
    "lidar2 = LidarLiteV3.Connect(busnum=BUSNUM, address=ADDRESS)\n",
    "\n",
    "lidar2.changeAddress(0x54)\n",
    "\n",
    "for i in range(300):\n",
    "    distance2 = lidar2.getDistance()\n",
    "    print(\"Distance to target = \"+str(distance2), \"   \\r\", end=\"\")\n",
    "    sys.stdout.flush()\n",
    "    time.sleep(0.022)\n",
    "print(\"\")\n",
    "sys.stdout.flush()\n",
    "print(\"end\")"
   ]
  },
  {
   "cell_type": "code",
   "execution_count": null,
   "metadata": {
    "collapsed": true
   },
   "outputs": [],
   "source": [
    "Lidar Lite v3の3個目のケーブルを接続します。\n",
    "Lidarはアドレス0x62で起動します。\n",
    "このアドレスを0x56に変更してセンサー値を取得できることを確認します。"
   ]
  },
  {
   "cell_type": "code",
   "execution_count": 3,
   "metadata": {},
   "outputs": [
    {
     "name": "stdout",
     "output_type": "stream",
     "text": [
      "Distance to target = 68     \n",
      "end\n"
     ]
    }
   ],
   "source": [
    "import sys\n",
    "import time\n",
    "from __future__ import print_function\n",
    "import LidarLiteV3\n",
    "BUSNUM=1\n",
    "ADDRESS=0x62\n",
    "lidar3 = LidarLiteV3.Connect(busnum=BUSNUM, address=ADDRESS)\n",
    "\n",
    "lidar3.changeAddress(0x56)\n",
    "\n",
    "for i in range(300):\n",
    "    distance3 = lidar3.getDistance()\n",
    "    print(\"Distance to target = \"+str(distance3), \"   \\r\", end=\"\")\n",
    "    sys.stdout.flush()\n",
    "    time.sleep(0.022)\n",
    "print(\"\")\n",
    "sys.stdout.flush()\n",
    "print(\"end\")"
   ]
  },
  {
   "cell_type": "code",
   "execution_count": null,
   "metadata": {
    "collapsed": true
   },
   "outputs": [],
   "source": [
    "3個のLidar Lite v3がそれぞれ値取得出来ていることを確認します。"
   ]
  },
  {
   "cell_type": "code",
   "execution_count": 4,
   "metadata": {
    "scrolled": true
   },
   "outputs": [
    {
     "name": "stdout",
     "output_type": "stream",
     "text": [
      "Distance to target = 317, 171, 5                               \n",
      "end\n"
     ]
    }
   ],
   "source": [
    "for i in range(300):\n",
    "    distance1 = lidar1.getDistance()\n",
    "    distance2 = lidar2.getDistance()\n",
    "    distance3 = lidar3.getDistance()\n",
    "    print(\"Distance to target = \"+str(distance1)+\", \"+str(distance2)+\", \"+str(distance3), \"         \\r\", end=\"\")\n",
    "    sys.stdout.flush()\n",
    "    time.sleep(0.022)\n",
    "print(\"\")\n",
    "sys.stdout.flush()\n",
    "print(\"end\")"
   ]
  },
  {
   "cell_type": "code",
   "execution_count": null,
   "metadata": {
    "collapsed": true
   },
   "outputs": [],
   "source": []
  }
 ],
 "metadata": {
  "kernelspec": {
   "display_name": "Python 2",
   "language": "python",
   "name": "python2"
  },
  "language_info": {
   "codemirror_mode": {
    "name": "ipython",
    "version": 2
   },
   "file_extension": ".py",
   "mimetype": "text/x-python",
   "name": "python",
   "nbconvert_exporter": "python",
   "pygments_lexer": "ipython2",
   "version": "2.7.12"
  }
 },
 "nbformat": 4,
 "nbformat_minor": 2
}
